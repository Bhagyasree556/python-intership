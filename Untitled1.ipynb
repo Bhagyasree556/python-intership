{
  "nbformat": 4,
  "nbformat_minor": 0,
  "metadata": {
    "colab": {
      "provenance": [],
      "toc_visible": true,
      "authorship_tag": "ABX9TyPKpVrt37Ze+NgZnVWcUft+",
      "include_colab_link": true
    },
    "kernelspec": {
      "name": "python3",
      "display_name": "Python 3"
    },
    "language_info": {
      "name": "python"
    }
  },
  "cells": [
    {
      "cell_type": "markdown",
      "metadata": {
        "id": "view-in-github",
        "colab_type": "text"
      },
      "source": [
        "<a href=\"https://colab.research.google.com/github/Bhagyasree556/python-intership/blob/main/Untitled1.ipynb\" target=\"_parent\"><img src=\"https://colab.research.google.com/assets/colab-badge.svg\" alt=\"Open In Colab\"/></a>"
      ]
    },
    {
      "cell_type": "code",
      "execution_count": 6,
      "metadata": {
        "colab": {
          "base_uri": "https://localhost:8080/"
        },
        "id": "4AinolzB7wRq",
        "outputId": "fc15dc1e-eb8c-459f-d1b6-78ccf8cf2438"
      },
      "outputs": [
        {
          "output_type": "stream",
          "name": "stdout",
          "text": [
            "rahul and rohith are best friends\n"
          ]
        }
      ],
      "source": [
        "print(\"{} and {} are best friends\".format(\"rahul\",\"rohith\"))"
      ]
    },
    {
      "cell_type": "code",
      "source": [
        "print(\"{0} {1} are besst players\".format(\"dhoni\",\"rohith\"))"
      ],
      "metadata": {
        "colab": {
          "base_uri": "https://localhost:8080/"
        },
        "id": "dI6RmWZV88Uf",
        "outputId": "48f2440c-07ed-4d2d-d145-a7e71767fd5f"
      },
      "execution_count": 7,
      "outputs": [
        {
          "output_type": "stream",
          "name": "stdout",
          "text": [
            "dhoni rohith are besst players\n"
          ]
        }
      ]
    },
    {
      "cell_type": "code",
      "source": [
        "print(\"{a} {b} {c} are friends \".format(a=\"dhoni\",b=\"yuvi\",c=\"rohith\"))"
      ],
      "metadata": {
        "colab": {
          "base_uri": "https://localhost:8080/"
        },
        "id": "9lCJLolg9XWX",
        "outputId": "5342fc09-03d9-471f-c1bc-c2a8c830bd5b"
      },
      "execution_count": 8,
      "outputs": [
        {
          "output_type": "stream",
          "name": "stdout",
          "text": [
            "dhoni yuvi rohith are friends \n"
          ]
        }
      ]
    }
  ]
}